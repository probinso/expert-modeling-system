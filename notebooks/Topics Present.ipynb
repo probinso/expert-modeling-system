{
 "cells": [
  {
   "cell_type": "code",
   "execution_count": null,
   "metadata": {},
   "outputs": [],
   "source": [
    "from collections import namedtuple\n",
    "import pickle\n",
    "import tarfile as tf\n",
    "\n",
    "from gensim.models import LdaModel as LDA\n",
    "from matplotlib import pyplot as plt\n",
    "import numpy as np\n",
    "from wordcloud import WordCloud\n",
    "\n",
    "Candidate = namedtuple('Candidate', ['iterations', 'num_topics'])\n",
    "\n",
    "%matplotlib notebook\n",
    "%precision 4\n",
    "\n",
    "pass"
   ]
  },
  {
   "cell_type": "code",
   "execution_count": null,
   "metadata": {},
   "outputs": [],
   "source": [
    "with open('election_by_type.pkl', 'rb') as fd:\n",
    "    election_by_type = pickle.load(fd)\n",
    "\n",
    "with open('dict_train_test.pkl', 'rb') as fd:\n",
    "    dictionary_by_type, train_by_type, test_by_type = pickle.load(fd)    \n",
    "\n",
    "model_by_type = dict()\n",
    "\n",
    "for document_type in election_by_type:\n",
    "    c = election_by_type[document_type]\n",
    "    filename = f'narrow-i{c.iterations:03}_t{c.num_topics:03}_d-{document_type}'\n",
    "    model_by_type[document_type] = LDA.load(f'../output/{filename}.lda')"
   ]
  },
  {
   "cell_type": "code",
   "execution_count": null,
   "metadata": {},
   "outputs": [],
   "source": [
    "for document_type in election_by_type:\n",
    "    fig=plt.figure(figsize=(9, 9))\n",
    "\n",
    "    model = model_by_type[document_type]\n",
    "\n",
    "    columns = int(np.ceil(np.sqrt(model.num_topics)))\n",
    "    rows = int(np.ceil(np.sqrt(model.num_topics)))\n",
    "\n",
    "    d = dictionary_by_type[document_type]\n",
    "\n",
    "    for t in range(1, model.num_topics):\n",
    "        topic = model.show_topic(t, 70)\n",
    "        wc = WordCloud()\n",
    "        lookup = {d[int(idx)]: v for idx, v in topic}\n",
    "        wc.fit_words(lookup)\n",
    "        \n",
    "        fig.add_subplot(rows, columns, t)\n",
    "        plt.imshow(wc)\n",
    "        plt.axis(\"off\")\n",
    "        plt.title(\"Topic #\" + str(t))\n",
    "    plt.savefig(f'{document_type}_destination_path.png', format='png', dpi=3000)\n"
   ]
  }
 ],
 "metadata": {
  "kernelspec": {
   "display_name": "Python 3",
   "language": "python",
   "name": "python3"
  },
  "language_info": {
   "codemirror_mode": {
    "name": "ipython",
    "version": 3
   },
   "file_extension": ".py",
   "mimetype": "text/x-python",
   "name": "python",
   "nbconvert_exporter": "python",
   "pygments_lexer": "ipython3",
   "version": "3.6.5"
  }
 },
 "nbformat": 4,
 "nbformat_minor": 2
}
