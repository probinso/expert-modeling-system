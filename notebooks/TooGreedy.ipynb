{
 "cells": [
  {
   "cell_type": "code",
   "execution_count": null,
   "metadata": {},
   "outputs": [],
   "source": [
    "from csv import DictReader\n",
    "from collections import Counter\n",
    "from functools import partial\n",
    "from math import isnan\n",
    "from pathlib import Path\n",
    "from glob import glob\n",
    "import re\n",
    "import sys\n",
    "\n",
    "from IPython.display import display\n",
    "from matplotlib import pyplot as plt\n",
    "import numpy as np\n",
    "from pandas import DataFrame, read_csv, concat\n",
    "import seaborn as sns\n",
    "    \n",
    "from lang import english, clean_stems\n",
    "\n",
    "\n",
    "%matplotlib notebook\n",
    "%precision 4\n",
    "\n",
    "BASEDIR = Path('../data')"
   ]
  },
  {
   "cell_type": "code",
   "execution_count": null,
   "metadata": {},
   "outputs": [],
   "source": [
    "#t = 'ISA'\n",
    "for filename in glob('../output/norm_*.csv'):\n",
    "    t = filename.split('_')[1].split('.')[0]\n",
    "    with open(filename) as fd:\n",
    "        df = read_csv(fd, low_memory=False)\n",
    "    info = df[['GLOMUNSTEM', 'GLOMPRE']].applymap(lambda s: len(str(s).split()))\n",
    "    targets = df[info.GLOMUNSTEM / info.GLOMPRE < .3]\n",
    "    display(targets)\n",
    "    row = targets.iloc[0]\n",
    "    display(row.GLOMUNSTEM)\n",
    "    display(row.GLOMPRE)"
   ]
  },
  {
   "cell_type": "code",
   "execution_count": null,
   "metadata": {},
   "outputs": [],
   "source": [
    "filters = list(read_csv(BASEDIR / 'html_escape_characters.csv').escape_char) + [\n",
    "        r'[\\s]',\n",
    "        r'=[^\\s]*',\n",
    "        r'(\\d+-\\d+t)?\\d+:\\d+:\\d+(.\\d+)?',\n",
    "        r'<.+?>',\n",
    "        r'\\d+\\.\\d+\\.\\d+',\n",
    "        r'(\\()?\\d+/\\d+/\\d+(\\))?',\n",
    "        r'\\s\\d+\\s',\n",
    "        r'\\*',\n",
    "        r'\\d\\d\\d\\d-\\d\\d-\\d\\d',\n",
    "        r'[\\(\\),\\'\\\"\\.:]',\n",
    "        r'\\s.\\s',\n",
    "        ',|:|;|\\(|\\)|\\[|\\]|{|}|<|>|\"|=|\\?|/|@',\n",
    "        r' \\d+ ',\n",
    "        r' - ',\n",
    "        r' \\| ',\n",
    "    ]\n",
    "\n",
    "def regprocess(s):\n",
    "    s = ' ' + s.lower() + ' '\n",
    "    \n",
    "    for i, f in enumerate(filters):\n",
    "        s = partial(re.sub, f, ' ')(s)\n",
    "        print(f, f'** :{i}: **', s, sep='\\n')\n",
    "    return s\n",
    "\n",
    "regprocess(row.GLOMPRE)"
   ]
  }
 ],
 "metadata": {
  "kernelspec": {
   "display_name": "Python 3",
   "language": "python",
   "name": "python3"
  },
  "language_info": {
   "codemirror_mode": {
    "name": "ipython",
    "version": 3
   },
   "file_extension": ".py",
   "mimetype": "text/x-python",
   "name": "python",
   "nbconvert_exporter": "python",
   "pygments_lexer": "ipython3",
   "version": "3.6.5"
  }
 },
 "nbformat": 4,
 "nbformat_minor": 2
}
