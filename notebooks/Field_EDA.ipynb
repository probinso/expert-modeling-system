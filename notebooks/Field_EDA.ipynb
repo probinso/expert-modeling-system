{
 "cells": [
  {
   "cell_type": "code",
   "execution_count": null,
   "metadata": {},
   "outputs": [],
   "source": [
    "from csv import DictReader\n",
    "from collections import Counter\n",
    "from functools import partial\n",
    "from math import isnan\n",
    "from pathlib import Path\n",
    "import re\n",
    "import sys\n",
    "\n",
    "from IPython.display import display\n",
    "from matplotlib import pyplot as plt\n",
    "import numpy as np\n",
    "from pandas import DataFrame, read_csv, concat\n",
    "import seaborn as sns\n",
    "\n",
    "\n",
    "%matplotlib notebook\n",
    "%precision 4\n",
    "\n",
    "BASEDIR = Path('../data')"
   ]
  },
  {
   "cell_type": "code",
   "execution_count": null,
   "metadata": {},
   "outputs": [],
   "source": [
    "with open(BASEDIR / 'prs.csv') as fd:\n",
    "    df = read_csv(fd, low_memory=False)\n",
    "df.shape"
   ]
  },
  {
   "cell_type": "code",
   "execution_count": null,
   "metadata": {},
   "outputs": [],
   "source": []
  },
  {
   "cell_type": "code",
   "execution_count": null,
   "metadata": {},
   "outputs": [],
   "source": [
    "report_types = df.ReportType.unique()\n",
    "documents_by_type = \\\n",
    "    {t:df.loc[df.ReportType==t].dropna(axis=1, how='all')\n",
    "     for t in report_types}\n"
   ]
  },
  {
   "cell_type": "code",
   "execution_count": null,
   "metadata": {},
   "outputs": [],
   "source": [
    "for t in documents_by_type:\n",
    "    print(t, len(documents_by_type[t].Project_Code.unique()))"
   ]
  },
  {
   "cell_type": "code",
   "execution_count": null,
   "metadata": {},
   "outputs": [],
   "source": [
    "exists_by_type = \\\n",
    "    {t: documents_by_type[t].notna().values.T\n",
    "     for t in documents_by_type\n",
    "    }\n",
    "\n",
    "cross_corr_by_type = \\\n",
    "    {t: np.corrcoef(exists_by_type[t])\n",
    "     for t in exists_by_type\n",
    "    }\n",
    "\n",
    "for t in cross_corr_by_type:\n",
    "    fig = plt.figure(figsize=(20,20))\n",
    "    m = cross_corr_by_type[t]\n",
    "    _ = sns.heatmap(m, xticklabels=labels_by_type[t], yticklabels=labels_by_type[t])\n",
    "    _ = plt.xticks(rotation=70)\n",
    "    _ = plt.title(f'{t} ({len(labels_by_type[t])} labels)')"
   ]
  },
  {
   "cell_type": "code",
   "execution_count": null,
   "metadata": {},
   "outputs": [],
   "source": [
    "counts = np.sum(e, axis=1)\n",
    "\n",
    "indexes = np.arange(m.shape[0])\n",
    "\n",
    "width = .8\n",
    "plt.bar(indexes, counts, width)\n",
    "plt.xticks(indexes - 0.5 * width, labels, rotation=70)\n",
    "plt.show()"
   ]
  },
  {
   "cell_type": "code",
   "execution_count": null,
   "metadata": {},
   "outputs": [],
   "source": [
    "\n",
    "lb, ub = .45, .99\n",
    "scaled = counts / counts.max()\n",
    "idx = (lb <= scaled) & (scaled <= ub)\n",
    "np.unique(idx)\n",
    "\n",
    "indexes = np.arange(np.sum(idx))\n",
    "width = .8\n",
    "\n",
    "fig = plt.figure()\n",
    "plt.bar(indexes, counts[idx], width, align='center')\n",
    "plt.xticks(indexes - .5 * width , labels[idx], rotation=70)\n",
    "plt.show()\n",
    "\n",
    "fig = plt.figure()\n",
    "_ = sns.heatmap(m[idx,:][:, idx],\n",
    "                xticklabels=labels[idx], \n",
    "                yticklabels=labels[idx])\n",
    "_ = plt.xticks(rotation=70)"
   ]
  },
  {
   "cell_type": "code",
   "execution_count": null,
   "metadata": {},
   "outputs": [],
   "source": [
    "idx = np.argsort(np.nanmax(m, axis=1))\n",
    "labels[idx[:15]]"
   ]
  }
 ],
 "metadata": {
  "kernelspec": {
   "display_name": "Python 3",
   "language": "python",
   "name": "python3"
  },
  "language_info": {
   "codemirror_mode": {
    "name": "ipython",
    "version": 3
   },
   "file_extension": ".py",
   "mimetype": "text/x-python",
   "name": "python",
   "nbconvert_exporter": "python",
   "pygments_lexer": "ipython3",
   "version": "3.6.5"
  }
 },
 "nbformat": 4,
 "nbformat_minor": 2
}
