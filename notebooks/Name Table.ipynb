{
 "cells": [
  {
   "cell_type": "code",
   "execution_count": null,
   "metadata": {},
   "outputs": [],
   "source": [
    "from pandas import DataFrame"
   ]
  },
  {
   "cell_type": "code",
   "execution_count": null,
   "metadata": {},
   "outputs": [],
   "source": [
    "columns = ['Name', 'Title', 'Organization']"
   ]
  },
  {
   "cell_type": "code",
   "execution_count": null,
   "metadata": {},
   "outputs": [],
   "source": [
    "one_q = 'gimbal drive motor friction'\n",
    "one_l = [\n",
    "    ['Amanda Donner', 'Mission Assurance Manager', '5150'],\n",
    "    ['John Trager', float('nan'), '337C'],\n",
    "    ['Mathew Keuneke', 'Product Delivery Manager', '397A'],\n",
    "    ['Jessica Bowles-Martinez', 'Systems Engineer', '313G'],\n",
    "    [float('nan'), float('nan'), float('nan')],\n",
    "]\n",
    "\n",
    "one_d = DataFrame(one_l, columns=columns)\n",
    "display(one_q)\n",
    "display(one_d)"
   ]
  },
  {
   "cell_type": "code",
   "execution_count": null,
   "metadata": {},
   "outputs": [],
   "source": [
    "\n",
    "two_q = 'rtg temperature drive curiosity capacity'\n",
    "two_l = [\n",
    "    ['John Rakiewicz', float('nan'), float('nan')],\n",
    "    ['Angela Dorsey', 'Technologist', '335S'],\n",
    "    ['Otfrid Liepack', 'Deputy System Manager', '394G'],\n",
    "    ['Mohammad Shahabuddin', 'Flight Software Engineer', '348D'],\n",
    "    ['Megan Lin', 'Delivery Manager', '397S']\n",
    "]\n",
    "\n",
    "two_d = DataFrame(two_l, columns=columns)\n",
    "display(two_q)\n",
    "display(two_d)"
   ]
  }
 ],
 "metadata": {
  "kernelspec": {
   "display_name": "Python 3",
   "language": "python",
   "name": "python3"
  },
  "language_info": {
   "codemirror_mode": {
    "name": "ipython",
    "version": 3
   },
   "file_extension": ".py",
   "mimetype": "text/x-python",
   "name": "python",
   "nbconvert_exporter": "python",
   "pygments_lexer": "ipython3",
   "version": "3.6.5"
  }
 },
 "nbformat": 4,
 "nbformat_minor": 2
}
